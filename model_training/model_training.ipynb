{
 "cells": [
  {
   "cell_type": "markdown",
   "id": "1edeea6d",
   "metadata": {},
   "source": [
    "# <b>Create Model For Training</b>\n",
    "## Collecting and Cleaning Data\n",
    "### 01_01 - Loading Data"
   ]
  },
  {
   "cell_type": "code",
   "execution_count": 4,
   "id": "00bdb435-6be2-49de-a540-12d942a98301",
   "metadata": {},
   "outputs": [],
   "source": [
    "# import libraries and set options, formating of floating-point numbers to 2 decimal places\n",
    "import numpy as np\n",
    "import pandas as pd\n",
    "import matplotlib.pyplot as plt\n",
    "import seaborn as sns\n",
    "pd.set_option('display.float_format', lambda x: '%.2f' % x)"
   ]
  },
  {
   "cell_type": "code",
   "execution_count": 5,
   "id": "981fec57-02fb-47e5-9cc0-da0a2b203154",
   "metadata": {},
   "outputs": [
    {
     "data": {
      "text/html": [
       "<div>\n",
       "<style scoped>\n",
       "    .dataframe tbody tr th:only-of-type {\n",
       "        vertical-align: middle;\n",
       "    }\n",
       "\n",
       "    .dataframe tbody tr th {\n",
       "        vertical-align: top;\n",
       "    }\n",
       "\n",
       "    .dataframe thead th {\n",
       "        text-align: right;\n",
       "    }\n",
       "</style>\n",
       "<table border=\"1\" class=\"dataframe\">\n",
       "  <thead>\n",
       "    <tr style=\"text-align: right;\">\n",
       "      <th></th>\n",
       "      <th>title</th>\n",
       "      <th>localization</th>\n",
       "      <th>price</th>\n",
       "      <th>price_per_m2</th>\n",
       "      <th>area</th>\n",
       "      <th>rooms</th>\n",
       "      <th>status</th>\n",
       "      <th>property_type</th>\n",
       "      <th>floor</th>\n",
       "      <th>balcony</th>\n",
       "      <th>heating_type</th>\n",
       "    </tr>\n",
       "  </thead>\n",
       "  <tbody>\n",
       "    <tr>\n",
       "      <th>0</th>\n",
       "      <td>3-pokojowe mieszkanie 48m2 + loggia</td>\n",
       "      <td>ul. Składowa, Krowodrza, Krowodrza, Kraków, ma...</td>\n",
       "      <td>770 018 zł</td>\n",
       "      <td>15 750 zł/m²</td>\n",
       "      <td>48,89 m²</td>\n",
       "      <td>NaN</td>\n",
       "      <td>do wykończenia</td>\n",
       "      <td>pełna własność</td>\n",
       "      <td>1/5</td>\n",
       "      <td>None</td>\n",
       "      <td>None</td>\n",
       "    </tr>\n",
       "    <tr>\n",
       "      <th>1</th>\n",
       "      <td>Bezpośrednio Kalwaryjska 78 - 42,92m2.</td>\n",
       "      <td>KALWARYJSKA NR 78, Krowodrza, Krowodrza, Krakó...</td>\n",
       "      <td>643 000 zł</td>\n",
       "      <td>14 981 zł/m²</td>\n",
       "      <td>42,92 m²</td>\n",
       "      <td>NaN</td>\n",
       "      <td>do wykończenia</td>\n",
       "      <td>pełna własność</td>\n",
       "      <td>1/2</td>\n",
       "      <td>balkon</td>\n",
       "      <td>miejskie</td>\n",
       "    </tr>\n",
       "    <tr>\n",
       "      <th>2</th>\n",
       "      <td>3 pokoje, duża loggia + 2 miejsca w garażu</td>\n",
       "      <td>ul. Wrocławska, Łobzów, Krowodrza, Kraków, mał...</td>\n",
       "      <td>985 000 zł</td>\n",
       "      <td>17 589 zł/m²</td>\n",
       "      <td>56 m²</td>\n",
       "      <td>NaN</td>\n",
       "      <td>do zamieszkania</td>\n",
       "      <td>pełna własność</td>\n",
       "      <td>1/6</td>\n",
       "      <td>balkon</td>\n",
       "      <td>miejskie</td>\n",
       "    </tr>\n",
       "    <tr>\n",
       "      <th>3</th>\n",
       "      <td>3-pokojowe mieszkanie 63m2 + balkon Bez Prowizji</td>\n",
       "      <td>pl. Imbramowski, Prądnik Biały, Prądnik Biały,...</td>\n",
       "      <td>963 528 zł</td>\n",
       "      <td>15 200 zł/m²</td>\n",
       "      <td>63,39 m²</td>\n",
       "      <td>NaN</td>\n",
       "      <td>do wykończenia</td>\n",
       "      <td>pełna własność</td>\n",
       "      <td>1/7</td>\n",
       "      <td>balkon</td>\n",
       "      <td>None</td>\n",
       "    </tr>\n",
       "    <tr>\n",
       "      <th>4</th>\n",
       "      <td>Kup Teraz - Zapłać w 10 ratach! NaGranicyKrakow</td>\n",
       "      <td>Borek Fałęcki, Łagiewniki-Borek Fałęcki, Krakó...</td>\n",
       "      <td>695 296,45 zł</td>\n",
       "      <td>10 288 zł/m²</td>\n",
       "      <td>67,58 m²</td>\n",
       "      <td>NaN</td>\n",
       "      <td>do zamieszkania</td>\n",
       "      <td>pełna własność</td>\n",
       "      <td>parter/1</td>\n",
       "      <td>balkon, ogródek, taras</td>\n",
       "      <td>gazowe</td>\n",
       "    </tr>\n",
       "  </tbody>\n",
       "</table>\n",
       "</div>"
      ],
      "text/plain": [
       "                                              title  \\\n",
       "0               3-pokojowe mieszkanie 48m2 + loggia   \n",
       "1            Bezpośrednio Kalwaryjska 78 - 42,92m2.   \n",
       "2        3 pokoje, duża loggia + 2 miejsca w garażu   \n",
       "3  3-pokojowe mieszkanie 63m2 + balkon Bez Prowizji   \n",
       "4   Kup Teraz - Zapłać w 10 ratach! NaGranicyKrakow   \n",
       "\n",
       "                                        localization          price  \\\n",
       "0  ul. Składowa, Krowodrza, Krowodrza, Kraków, ma...     770 018 zł   \n",
       "1  KALWARYJSKA NR 78, Krowodrza, Krowodrza, Krakó...     643 000 zł   \n",
       "2  ul. Wrocławska, Łobzów, Krowodrza, Kraków, mał...     985 000 zł   \n",
       "3  pl. Imbramowski, Prądnik Biały, Prądnik Biały,...     963 528 zł   \n",
       "4  Borek Fałęcki, Łagiewniki-Borek Fałęcki, Krakó...  695 296,45 zł   \n",
       "\n",
       "   price_per_m2      area  rooms           status   property_type     floor  \\\n",
       "0  15 750 zł/m²  48,89 m²    NaN   do wykończenia  pełna własność       1/5   \n",
       "1  14 981 zł/m²  42,92 m²    NaN   do wykończenia  pełna własność       1/2   \n",
       "2  17 589 zł/m²     56 m²    NaN  do zamieszkania  pełna własność       1/6   \n",
       "3  15 200 zł/m²  63,39 m²    NaN   do wykończenia  pełna własność       1/7   \n",
       "4  10 288 zł/m²  67,58 m²    NaN  do zamieszkania  pełna własność  parter/1   \n",
       "\n",
       "                  balcony heating_type  \n",
       "0                    None         None  \n",
       "1                  balkon     miejskie  \n",
       "2                  balkon     miejskie  \n",
       "3                  balkon         None  \n",
       "4  balkon, ogródek, taras       gazowe  "
      ]
     },
     "execution_count": 5,
     "metadata": {},
     "output_type": "execute_result"
    }
   ],
   "source": [
    "# read the data from the json file\n",
    "data = pd.read_json('otodom_data.json')\n",
    "data.head()"
   ]
  },
  {
   "cell_type": "markdown",
   "id": "f029e82f",
   "metadata": {},
   "source": [
    "### 01_02 - Check which colums may not be useful for analysis "
   ]
  },
  {
   "cell_type": "code",
   "execution_count": 6,
   "id": "c9627bb2",
   "metadata": {},
   "outputs": [
    {
     "name": "stdout",
     "output_type": "stream",
     "text": [
      "title           0.00\n",
      "localization    0.00\n",
      "price           0.09\n",
      "price_per_m2    0.09\n",
      "area            0.00\n",
      "rooms           0.17\n",
      "status          0.10\n",
      "property_type   0.07\n",
      "floor           0.01\n",
      "balcony         0.21\n",
      "heating_type    0.35\n",
      "dtype: float64\n"
     ]
    }
   ],
   "source": [
    "print(data.isna().sum()/len(data))"
   ]
  },
  {
   "cell_type": "code",
   "execution_count": 7,
   "id": "777409c7",
   "metadata": {},
   "outputs": [
    {
     "name": "stdout",
     "output_type": "stream",
     "text": [
      "property_type\n",
      "pełna własność                      144\n",
      "spółdzielcze wł. prawo do lokalu      3\n",
      "udział                                1\n",
      "Name: count, dtype: int64\n"
     ]
    }
   ],
   "source": [
    "print(data.value_counts('property_type'))"
   ]
  },
  {
   "cell_type": "code",
   "execution_count": 8,
   "id": "51ae48fe-6abb-4df9-bd7d-ea150d23b6ae",
   "metadata": {},
   "outputs": [],
   "source": [
    "# cleaning data, removing columns: title and property_type, as they are not useful for analysis \n",
    "data.drop(['title', 'property_type'], axis=1, inplace=True)"
   ]
  },
  {
   "cell_type": "code",
   "execution_count": 9,
   "id": "85cd8728-3a71-4669-8592-7c069566ad4b",
   "metadata": {},
   "outputs": [
    {
     "data": {
      "text/plain": [
       "9.375"
      ]
     },
     "execution_count": 9,
     "metadata": {},
     "output_type": "execute_result"
    }
   ],
   "source": [
    "# check for missing values in the \"price\" column in data\n",
    "price_missing = data['price'].isna().sum()\n",
    "price_missing/len(data)*100"
   ]
  },
  {
   "cell_type": "code",
   "execution_count": 10,
   "id": "23ef5c17-a560-4abb-8893-dcf4e5a03def",
   "metadata": {},
   "outputs": [
    {
     "data": {
      "text/plain": [
       "145"
      ]
     },
     "execution_count": 10,
     "metadata": {},
     "output_type": "execute_result"
    }
   ],
   "source": [
    "# remove rows with missing values in the \"price\" column\n",
    "# calculate the number of the rows in data after removing missing values\n",
    "data.dropna(subset=['price'], inplace=True)\n",
    "len(data)"
   ]
  },
  {
   "cell_type": "markdown",
   "id": "e7042ac0",
   "metadata": {},
   "source": [
    "### 01_03 - Cleaning Data"
   ]
  },
  {
   "cell_type": "code",
   "execution_count": 11,
   "id": "62456e07",
   "metadata": {},
   "outputs": [],
   "source": [
    "# cleaning data, creating lambda functions to remove unwanted characters from the columns and convert them to the appropriate data type\n",
    "data['price'] = data['price'].apply(lambda x: x.replace(' ','').replace('zł', ''). replace(',','.')).astype(float)\n",
    "data['price_per_m2'] = data['price_per_m2'].apply(lambda x: x.replace(' ','').replace('zł/m²', ''). replace(',','.')).astype(float)\n",
    "data['area'] = data['area'].apply(lambda x: x.replace(' ','').replace('m²', ''). replace(',','.')).astype(float)\n",
    "data['localization'] = data['localization'].apply(lambda x: x.split(',')[2] if x.startswith('ul') else x.split(',')[1])\n",
    "data['floor'] = data['floor'].apply(lambda x: x.split('/')[0] if type(x) == str else x)\n",
    "data['floor'] = data['floor'].replace('parter', 0)\n",
    "data['floor'] = data['floor'].replace('suterena', -1)\n",
    "data['floor'] = data['floor'].replace('poddasze', np.nan)\n",
    "data['rooms'] = data['rooms'].replace('pierwotny', np.nan)"
   ]
  },
  {
   "cell_type": "code",
   "execution_count": 12,
   "id": "54c5c219",
   "metadata": {},
   "outputs": [],
   "source": [
    "# calculate standard deviation and remove outliers from the \"price\" column\n",
    "mean = data['price'].mean()\n",
    "std = data['price'].std()\n",
    "threshold = mean + 2 * std\n",
    "\n",
    "prices_above_threshold = data[data['price'] > threshold]['price']\n",
    "data = data[data['price'] <= threshold]"
   ]
  },
  {
   "cell_type": "code",
   "execution_count": 13,
   "id": "5104ac78",
   "metadata": {},
   "outputs": [],
   "source": [
    "# categorize the \"area\" column into small, medium, large and huge\n",
    "def categorize_area(area):\n",
    "    if area <= 30:\n",
    "        return 'small'\n",
    "    elif area <= 60:\n",
    "        return 'medium'\n",
    "    elif area <= 90:\n",
    "        return 'large'\n",
    "    else: \n",
    "        return 'huge'\n",
    "\n",
    "data['size'] = data['area'].apply(categorize_area)"
   ]
  },
  {
   "cell_type": "code",
   "execution_count": 14,
   "id": "82826675",
   "metadata": {},
   "outputs": [],
   "source": [
    "# fill missing values in the \"rooms\" and \"balcony\" columns with the most common value in the \"localization\" group\n",
    "data['rooms'] = data['rooms'].fillna(data['size'].map({'small': 1, 'medium': 2, 'large': 3, 'huge': 4}))\n",
    "data['balcony'] = data.groupby('localization')['balcony'].transform(lambda x: x.fillna(x.mode().iloc[0]) if not x.mode().empty else x)"
   ]
  },
  {
   "cell_type": "code",
   "execution_count": 15,
   "id": "c19e1fb7",
   "metadata": {},
   "outputs": [],
   "source": [
    "# create new columns based on the \"balcony\" column\n",
    "data['balkon'] = data['balcony'].apply(lambda x: 1 if isinstance(x, str) and 'balkon' in x else 0)\n",
    "data['ogródek'] = data['balcony'].apply(lambda x: 1 if isinstance(x, str) and 'ogródek' in x else 0)\n",
    "data['taras'] = data['balcony'].apply(lambda x: 1 if isinstance(x, str) and 'taras' in x else 0)"
   ]
  },
  {
   "cell_type": "code",
   "execution_count": 16,
   "id": "807c055b",
   "metadata": {},
   "outputs": [
    {
     "name": "stderr",
     "output_type": "stream",
     "text": [
      "C:\\Users\\Komputer\\AppData\\Local\\Temp\\ipykernel_8112\\3043946819.py:2: FutureWarning: A value is trying to be set on a copy of a DataFrame or Series through chained assignment using an inplace method.\n",
      "The behavior will change in pandas 3.0. This inplace method will never work because the intermediate object on which we are setting values always behaves as a copy.\n",
      "\n",
      "For example, when doing 'df[col].method(value, inplace=True)', try using 'df.method({col: value}, inplace=True)' or df[col] = df[col].method(value) instead, to perform the operation inplace on the original object.\n",
      "\n",
      "\n",
      "  data['status'].fillna(data['status'].mode()[0], inplace=True)\n",
      "C:\\Users\\Komputer\\AppData\\Local\\Temp\\ipykernel_8112\\3043946819.py:3: FutureWarning: A value is trying to be set on a copy of a DataFrame or Series through chained assignment using an inplace method.\n",
      "The behavior will change in pandas 3.0. This inplace method will never work because the intermediate object on which we are setting values always behaves as a copy.\n",
      "\n",
      "For example, when doing 'df[col].method(value, inplace=True)', try using 'df.method({col: value}, inplace=True)' or df[col] = df[col].method(value) instead, to perform the operation inplace on the original object.\n",
      "\n",
      "\n",
      "  data['heating_type'].fillna(data['heating_type'].mode()[0], inplace=True)\n"
     ]
    }
   ],
   "source": [
    "# fill missing values in the \"heating_type\" and \"status\" columns with the most common value\n",
    "data['status'].fillna(data['status'].mode()[0], inplace=True)\n",
    "data['heating_type'].fillna(data['heating_type'].mode()[0], inplace=True)\n",
    "data['floor'].dropna(inplace=True)\n",
    "data['rooms'].dropna(inplace=True)\n",
    "data.drop(['price_per_m2', 'balcony'], axis=1, inplace=True)\n",
    "data.dropna(inplace=True)"
   ]
  },
  {
   "cell_type": "markdown",
   "id": "af5ecaed",
   "metadata": {},
   "source": [
    "### 01_04 - Visualisation of Average Price per Localization"
   ]
  },
  {
   "cell_type": "code",
   "execution_count": 17,
   "id": "0d5935f6",
   "metadata": {},
   "outputs": [
    {
     "data": {
      "image/png": "[encoded data removed]",
      "text/plain": [
       "<Figure size 640x480 with 1 Axes>"
      ]
     },
     "metadata": {},
     "output_type": "display_data"
    }
   ],
   "source": [
    "# calculate the average price per localization and plot the results \n",
    "average_price = data.groupby('localization')['price'].mean()\n",
    "average_price.plot(kind='bar')\n",
    "plt.xlabel('Localization')\n",
    "plt.ylabel('Average Price')\n",
    "plt.title('Average Price per Localization')\n",
    "plt.xticks(rotation=90)\n",
    "plt.show()"
   ]
  },
  {
   "cell_type": "markdown",
   "id": "5b3ea1bb",
   "metadata": {},
   "source": [
    "#### 01_05 - Save cleaned data to CSV file"
   ]
  },
  {
   "cell_type": "code",
   "execution_count": 18,
   "id": "11b8b606",
   "metadata": {},
   "outputs": [],
   "source": [
    "# select only numeric columns from the data, save the cleaned data to a new csv file\n",
    "data_numeric = data.select_dtypes(include=[np.number])\n",
    "data.to_csv('cleaned_data.csv', index=False)"
   ]
  },
  {
   "cell_type": "code",
   "execution_count": 19,
   "id": "5d98aa9a",
   "metadata": {},
   "outputs": [
    {
     "data": {
      "text/plain": [
       "floor\n",
       "1     42\n",
       "0     26\n",
       "2     19\n",
       "4     19\n",
       "3     15\n",
       "7      5\n",
       "5      4\n",
       "9      3\n",
       "8      3\n",
       "10     1\n",
       "-1     1\n",
       "6      1\n",
       "Name: count, dtype: int64"
      ]
     },
     "execution_count": 19,
     "metadata": {},
     "output_type": "execute_result"
    }
   ],
   "source": [
    "# calculate the number of values in the \"floor\" column\n",
    "data.floor.value_counts()"
   ]
  },
  {
   "cell_type": "markdown",
   "id": "a193dc7c",
   "metadata": {},
   "source": [
    "#### 01_06 - Visualisation of Correlation Martix of a dataset"
   ]
  },
  {
   "cell_type": "code",
   "execution_count": 20,
   "id": "b74a63a3",
   "metadata": {},
   "outputs": [
    {
     "data": {
      "image/png": "[encoded data removed]",
      "text/plain": [
       "<Figure size 640x480 with 2 Axes>"
      ]
     },
     "metadata": {},
     "output_type": "display_data"
    }
   ],
   "source": [
    "# plot Correlation Matrix using heatmap\n",
    "sns.heatmap(data_numeric.corr(), annot=True, cmap='coolwarm')\n",
    "plt.title('Correlation Matrix')\n",
    "plt.show()"
   ]
  },
  {
   "cell_type": "code",
   "execution_count": 21,
   "id": "1dd5a2bf",
   "metadata": {},
   "outputs": [],
   "source": [
    "# Convert categorical variables into dummy/indicator variables, dropping the first category to avoid multicollinearity\n",
    "df_final = pd.get_dummies(data, drop_first=True)"
   ]
  },
  {
   "cell_type": "code",
   "execution_count": 29,
   "id": "33bf569c",
   "metadata": {},
   "outputs": [
    {
     "data": {
      "text/html": [
       "<div>\n",
       "<style scoped>\n",
       "    .dataframe tbody tr th:only-of-type {\n",
       "        vertical-align: middle;\n",
       "    }\n",
       "\n",
       "    .dataframe tbody tr th {\n",
       "        vertical-align: top;\n",
       "    }\n",
       "\n",
       "    .dataframe thead th {\n",
       "        text-align: right;\n",
       "    }\n",
       "</style>\n",
       "<table border=\"1\" class=\"dataframe\">\n",
       "  <thead>\n",
       "    <tr style=\"text-align: right;\">\n",
       "      <th></th>\n",
       "      <th>price</th>\n",
       "      <th>area</th>\n",
       "      <th>rooms</th>\n",
       "      <th>balkon</th>\n",
       "      <th>ogródek</th>\n",
       "      <th>taras</th>\n",
       "      <th>localization_ Bieżanów-Prokocim</th>\n",
       "      <th>localization_ Bronowice</th>\n",
       "      <th>localization_ Czyżyny</th>\n",
       "      <th>localization_ Dębniki</th>\n",
       "      <th>...</th>\n",
       "      <th>floor_7</th>\n",
       "      <th>floor_8</th>\n",
       "      <th>floor_9</th>\n",
       "      <th>heating_type_gazowe</th>\n",
       "      <th>heating_type_inne</th>\n",
       "      <th>heating_type_kotłownia</th>\n",
       "      <th>heating_type_miejskie</th>\n",
       "      <th>size_large</th>\n",
       "      <th>size_medium</th>\n",
       "      <th>size_small</th>\n",
       "    </tr>\n",
       "  </thead>\n",
       "  <tbody>\n",
       "    <tr>\n",
       "      <th>0</th>\n",
       "      <td>770018.00</td>\n",
       "      <td>48.89</td>\n",
       "      <td>2.00</td>\n",
       "      <td>1</td>\n",
       "      <td>0</td>\n",
       "      <td>0</td>\n",
       "      <td>False</td>\n",
       "      <td>False</td>\n",
       "      <td>False</td>\n",
       "      <td>False</td>\n",
       "      <td>...</td>\n",
       "      <td>False</td>\n",
       "      <td>False</td>\n",
       "      <td>False</td>\n",
       "      <td>False</td>\n",
       "      <td>False</td>\n",
       "      <td>False</td>\n",
       "      <td>True</td>\n",
       "      <td>False</td>\n",
       "      <td>True</td>\n",
       "      <td>False</td>\n",
       "    </tr>\n",
       "    <tr>\n",
       "      <th>1</th>\n",
       "      <td>643000.00</td>\n",
       "      <td>42.92</td>\n",
       "      <td>2.00</td>\n",
       "      <td>1</td>\n",
       "      <td>0</td>\n",
       "      <td>0</td>\n",
       "      <td>False</td>\n",
       "      <td>False</td>\n",
       "      <td>False</td>\n",
       "      <td>False</td>\n",
       "      <td>...</td>\n",
       "      <td>False</td>\n",
       "      <td>False</td>\n",
       "      <td>False</td>\n",
       "      <td>False</td>\n",
       "      <td>False</td>\n",
       "      <td>False</td>\n",
       "      <td>True</td>\n",
       "      <td>False</td>\n",
       "      <td>True</td>\n",
       "      <td>False</td>\n",
       "    </tr>\n",
       "    <tr>\n",
       "      <th>2</th>\n",
       "      <td>985000.00</td>\n",
       "      <td>56.00</td>\n",
       "      <td>2.00</td>\n",
       "      <td>1</td>\n",
       "      <td>0</td>\n",
       "      <td>0</td>\n",
       "      <td>False</td>\n",
       "      <td>False</td>\n",
       "      <td>False</td>\n",
       "      <td>False</td>\n",
       "      <td>...</td>\n",
       "      <td>False</td>\n",
       "      <td>False</td>\n",
       "      <td>False</td>\n",
       "      <td>False</td>\n",
       "      <td>False</td>\n",
       "      <td>False</td>\n",
       "      <td>True</td>\n",
       "      <td>False</td>\n",
       "      <td>True</td>\n",
       "      <td>False</td>\n",
       "    </tr>\n",
       "    <tr>\n",
       "      <th>3</th>\n",
       "      <td>963528.00</td>\n",
       "      <td>63.39</td>\n",
       "      <td>3.00</td>\n",
       "      <td>1</td>\n",
       "      <td>0</td>\n",
       "      <td>0</td>\n",
       "      <td>False</td>\n",
       "      <td>False</td>\n",
       "      <td>False</td>\n",
       "      <td>False</td>\n",
       "      <td>...</td>\n",
       "      <td>False</td>\n",
       "      <td>False</td>\n",
       "      <td>False</td>\n",
       "      <td>False</td>\n",
       "      <td>False</td>\n",
       "      <td>False</td>\n",
       "      <td>True</td>\n",
       "      <td>True</td>\n",
       "      <td>False</td>\n",
       "      <td>False</td>\n",
       "    </tr>\n",
       "    <tr>\n",
       "      <th>4</th>\n",
       "      <td>695296.45</td>\n",
       "      <td>67.58</td>\n",
       "      <td>3.00</td>\n",
       "      <td>1</td>\n",
       "      <td>1</td>\n",
       "      <td>1</td>\n",
       "      <td>False</td>\n",
       "      <td>False</td>\n",
       "      <td>False</td>\n",
       "      <td>False</td>\n",
       "      <td>...</td>\n",
       "      <td>False</td>\n",
       "      <td>False</td>\n",
       "      <td>False</td>\n",
       "      <td>True</td>\n",
       "      <td>False</td>\n",
       "      <td>False</td>\n",
       "      <td>False</td>\n",
       "      <td>True</td>\n",
       "      <td>False</td>\n",
       "      <td>False</td>\n",
       "    </tr>\n",
       "  </tbody>\n",
       "</table>\n",
       "<p>5 rows × 51 columns</p>\n",
       "</div>"
      ],
      "text/plain": [
       "      price  area  rooms  balkon  ogródek  taras  \\\n",
       "0 770018.00 48.89   2.00       1        0      0   \n",
       "1 643000.00 42.92   2.00       1        0      0   \n",
       "2 985000.00 56.00   2.00       1        0      0   \n",
       "3 963528.00 63.39   3.00       1        0      0   \n",
       "4 695296.45 67.58   3.00       1        1      1   \n",
       "\n",
       "   localization_ Bieżanów-Prokocim  localization_ Bronowice  \\\n",
       "0                            False                    False   \n",
       "1                            False                    False   \n",
       "2                            False                    False   \n",
       "3                            False                    False   \n",
       "4                            False                    False   \n",
       "\n",
       "   localization_ Czyżyny  localization_ Dębniki  ...  floor_7  floor_8  \\\n",
       "0                  False                  False  ...    False    False   \n",
       "1                  False                  False  ...    False    False   \n",
       "2                  False                  False  ...    False    False   \n",
       "3                  False                  False  ...    False    False   \n",
       "4                  False                  False  ...    False    False   \n",
       "\n",
       "   floor_9  heating_type_gazowe  heating_type_inne  heating_type_kotłownia  \\\n",
       "0    False                False              False                   False   \n",
       "1    False                False              False                   False   \n",
       "2    False                False              False                   False   \n",
       "3    False                False              False                   False   \n",
       "4    False                 True              False                   False   \n",
       "\n",
       "   heating_type_miejskie  size_large  size_medium  size_small  \n",
       "0                   True       False         True       False  \n",
       "1                   True       False         True       False  \n",
       "2                   True       False         True       False  \n",
       "3                   True        True        False       False  \n",
       "4                  False        True        False       False  \n",
       "\n",
       "[5 rows x 51 columns]"
      ]
     },
     "execution_count": 29,
     "metadata": {},
     "output_type": "execute_result"
    }
   ],
   "source": [
    "df_final.head()"
   ]
  },
  {
   "cell_type": "code",
   "execution_count": 22,
   "id": "2ecf0025",
   "metadata": {},
   "outputs": [
    {
     "data": {
      "text/plain": [
       "Index(['price', 'area', 'rooms', 'balkon', 'ogródek', 'taras',\n",
       "       'localization_ Bieżanów-Prokocim', 'localization_ Bronowice',\n",
       "       'localization_ Czyżyny', 'localization_ Dębniki',\n",
       "       'localization_ Grzegórzki', 'localization_ Krowodrza',\n",
       "       'localization_ Krowodrza Górka', 'localization_ Mistrzejowice',\n",
       "       'localization_ Nowa Huta', 'localization_ Osiedle Oficerskie',\n",
       "       'localization_ Podgórze', 'localization_ Podgórze Duchackie',\n",
       "       'localization_ Prądnik Biały', 'localization_ Prądnik Czerwony',\n",
       "       'localization_ Rakowice', 'localization_ Stare Miasto',\n",
       "       'localization_ Swoszowice', 'localization_ Wieliczka',\n",
       "       'localization_ Wzgórza Krzesławickie', 'localization_ Zielonki',\n",
       "       'localization_ Zwierzyniec', 'localization_ ul. Lea',\n",
       "       'localization_ ul. Radzikowskiego', 'localization_ ul. Wiślicka',\n",
       "       'localization_ Łagiewniki-Borek Fałęcki', 'status_do wykończenia',\n",
       "       'status_do zamieszkania', 'floor_0', 'floor_1', 'floor_10', 'floor_2',\n",
       "       'floor_3', 'floor_4', 'floor_5', 'floor_6', 'floor_7', 'floor_8',\n",
       "       'floor_9', 'heating_type_gazowe', 'heating_type_inne',\n",
       "       'heating_type_kotłownia', 'heating_type_miejskie', 'size_large',\n",
       "       'size_medium', 'size_small'],\n",
       "      dtype='object')"
      ]
     },
     "execution_count": 22,
     "metadata": {},
     "output_type": "execute_result"
    }
   ],
   "source": [
    "df_final.columns"
   ]
  },
  {
   "cell_type": "code",
   "execution_count": 31,
   "id": "e0200684",
   "metadata": {},
   "outputs": [],
   "source": [
    "# Drop the 'price' column from df_final to create the feature set X\n",
    "# Extract the 'price' column from df_final to create the target variable y\n",
    "X = df_final.drop('price', axis=1)\n",
    "y = df_final['price']"
   ]
  },
  {
   "cell_type": "code",
   "execution_count": 24,
   "id": "b27b2bba",
   "metadata": {},
   "outputs": [],
   "source": [
    "# Import the train_test_split function from scikit-learn to split the dataset into training and testing sets\n",
    "from sklearn.model_selection import train_test_split\n",
    "\n",
    "# Splitting the data into training and testing sets\n",
    "X_train, X_test, y_train, y_test = train_test_split(X, y, test_size=0.2, random_state=42)"
   ]
  },
  {
   "cell_type": "code",
   "execution_count": 25,
   "id": "267eb0b5",
   "metadata": {},
   "outputs": [
    {
     "data": {
      "text/plain": [
       "array([ 984030.52906499, 1146699.49820676,  687158.87545026,\n",
       "        947929.09208411,  673061.91924037,  638090.63324194,\n",
       "        143813.54365293,  823399.67866757,  657800.87091033,\n",
       "       1669549.3245976 ,  985876.70804887,  755977.48380842,\n",
       "        629145.64652046,  701971.24359094, 1694429.16614327,\n",
       "       1192007.91205402,  880454.06015561, 1023331.08234571,\n",
       "        877962.70424419, 1607924.20310584, 1054757.80355031,\n",
       "       1122182.28220438,  698331.27678167,  654363.02955184,\n",
       "       1120724.78657076,  743311.88607304,  936031.46032009,\n",
       "        893585.96930836])"
      ]
     },
     "execution_count": 25,
     "metadata": {},
     "output_type": "execute_result"
    }
   ],
   "source": [
    "# Import the LinearRegression model from scikit-learn\n",
    "from sklearn.linear_model import LinearRegression\n",
    "\n",
    "# Import metrics for evaluating the model's performance\n",
    "from sklearn.metrics import mean_absolute_error\n",
    "from sklearn.metrics import mean_squared_error\n",
    "\n",
    "# Initialize the LinearRegression model\n",
    "model = LinearRegression()\n",
    "\n",
    "# Fit the model to the training data\n",
    "model.fit(X_train, y_train)\n",
    "\n",
    "# Evaluate the model's performance on the test data\n",
    "score = model.score(X_test, y_test)\n",
    "\n",
    "# Predict the target variable for the test data\n",
    "y_pred = model.predict(X_test)\n",
    "\n",
    "# Output the predicted values\n",
    "y_pred"
   ]
  },
  {
   "cell_type": "code",
   "execution_count": 26,
   "id": "8dacaaba",
   "metadata": {},
   "outputs": [
    {
     "name": "stdout",
     "output_type": "stream",
     "text": [
      "R^2: 0.6816851144613718\n",
      "MAE: 134498.65915017927\n",
      "RMSE: 192574.15089343028\n"
     ]
    }
   ],
   "source": [
    "# Calculate the Mean Absolute Error (MAE) between the actual and predicted values\n",
    "mae = mean_absolute_error(y_test, y_pred)\n",
    "\n",
    "# Calculate the Root Mean Squared Error (RMSE) between the actual and predicted values\n",
    "rmse = np.sqrt(mean_squared_error(y_test, y_pred))\n",
    "\n",
    "# Print the R^2 score of the model\n",
    "print(f'R^2: {score}')\n",
    "\n",
    "# Print the Mean Absolute Error (MAE)\n",
    "print(f'MAE: {mae}')\n",
    "\n",
    "# Print the Root Mean Squared Error (RMSE)\n",
    "print(f'RMSE: {rmse}')"
   ]
  },
  {
   "cell_type": "markdown",
   "id": "87a15f80",
   "metadata": {},
   "source": [
    "#### 01_07 - Save trained model"
   ]
  },
  {
   "cell_type": "code",
   "execution_count": 27,
   "id": "56e00466",
   "metadata": {},
   "outputs": [],
   "source": [
    "import pickle\n",
    "\n",
    "# Save the trained model object to a file named 'model.pkl' using pickle\n",
    "with open('model.pkl', 'wb') as f:\n",
    "    pickle.dump(model, f)"
   ]
  }
 ],
 "metadata": {
  "kernelspec": {
   "display_name": "Python 3 (ipykernel)",
   "language": "python",
   "name": "python3"
  },
  "language_info": {
   "codemirror_mode": {
    "name": "ipython",
    "version": 3
   },
   "file_extension": ".py",
   "mimetype": "text/x-python",
   "name": "python",
   "nbconvert_exporter": "python",
   "pygments_lexer": "ipython3",
   "version": "3.9.19"
  }
 },
 "nbformat": 4,
 "nbformat_minor": 5
}
